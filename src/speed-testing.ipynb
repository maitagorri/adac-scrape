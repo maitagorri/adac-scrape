{
 "cells": [
  {
   "cell_type": "code",
   "execution_count": 7,
   "id": "f90ab779-f1bb-4522-9cbc-5f37a58e7931",
   "metadata": {},
   "outputs": [],
   "source": [
    "import requests"
   ]
  },
  {
   "cell_type": "code",
   "execution_count": 8,
   "id": "22305361-76f0-47fa-b73a-67c178d89531",
   "metadata": {},
   "outputs": [],
   "source": [
    "from bs4 import BeautifulSoup"
   ]
  },
  {
   "cell_type": "code",
   "execution_count": 9,
   "id": "4fd16ca8-a263-4f7e-9e3e-e29808890864",
   "metadata": {},
   "outputs": [],
   "source": [
    "import pandas as pd\n",
    "import os\n",
    "import re\n",
    "from datetime import datetime\n",
    "import pickle"
   ]
  },
  {
   "cell_type": "markdown",
   "id": "828d0a9c-ac11-4ea0-9b89-888fad2403fd",
   "metadata": {},
   "source": [
    "Ich glaube wir können es uns einfach machen--die URL-Struktur sieht wie folgt aus:\n",
    "\n",
    "`https://www.adac.de/rund-ums-fahrzeug/autokatalog/marken-modelle/[MARKE]/[MODELL]/[UNTERMODELL]/[ID]`\n",
    "\n",
    "Nur einige Modelle haben dann noch den Unterpunkt `/#kosten`"
   ]
  },
  {
   "cell_type": "code",
   "execution_count": 15,
   "id": "e8d598d2-3463-4657-873b-a700f0954063",
   "metadata": {},
   "outputs": [],
   "source": [
    "outpath = \"../out/test.csv\""
   ]
  },
  {
   "cell_type": "markdown",
   "id": "faa5f52a-512d-4eac-bc02-94382c72406b",
   "metadata": {},
   "source": [
    "## Modellliste laden"
   ]
  },
  {
   "cell_type": "code",
   "execution_count": 10,
   "id": "473c76c1-eef0-40fe-bd1c-e08877e3b509",
   "metadata": {},
   "outputs": [],
   "source": [
    "alle_modelle = pickle.load(open('../out/20220601-2354_modellist','rb'), encoding='utf-8')"
   ]
  },
  {
   "cell_type": "markdown",
   "id": "92097c99-d0ff-4f20-866e-5992bb94ba53",
   "metadata": {},
   "source": [
    "## Download Modellinfos"
   ]
  },
  {
   "cell_type": "code",
   "execution_count": 11,
   "id": "df891ac3-a25c-4ce8-893e-8faa09bc676c",
   "metadata": {},
   "outputs": [
    {
     "data": {
      "text/plain": [
       "141892"
      ]
     },
     "execution_count": 11,
     "metadata": {},
     "output_type": "execute_result"
    }
   ],
   "source": [
    "len(alle_modelle)"
   ]
  },
  {
   "cell_type": "code",
   "execution_count": 12,
   "id": "3c4e3ec8-65e1-4b1a-b17e-c18bd4d404c3",
   "metadata": {},
   "outputs": [],
   "source": [
    "# current version\n",
    "def downloadModelle(alle_modelle):\n",
    "    print('Zu ladende Modelle: {}'.format(len(alle_modelle)))\n",
    "    try: # der gesamte Prozess, wenn alles gut läuft\n",
    "        i=0\n",
    "        for modell_url in alle_modelle:\n",
    "            # if i==9:\n",
    "            #     raise(IndexError)\n",
    "            if i%100==0:\n",
    "                print('... {}'.format(i))\n",
    "            i += 1\n",
    "            ## Modell\n",
    "            model_id = re.findall('/(\\d+)/$',modell_url)[0]\n",
    "\n",
    "            r_modell = requests.get(modell_url + '#technische-daten')\n",
    "            modell_soup = BeautifulSoup(r_modell.text, 'html.parser')\n",
    "            technische_daten = modell_soup.find_all('div', \n",
    "                                                    {\"title\" : \"Technische Daten\"})\n",
    "            if len(technische_daten) > 0: # es scheinen ein paar Seiten ohne technische Daten dabei zu sein--diese überspringen\n",
    "                tabellen = pd.read_html(modell_url)\n",
    "                tabelle = pd.concat(tabellen, axis=0)\n",
    "                tabelle['ADAC_id'] = model_id\n",
    "\n",
    "                # Technische Daten in Datei schreiben\n",
    "                tabelle.to_csv(outpath, index=False, mode='a', header=not (os.path.exists(outpath)) )\n",
    "            else:\n",
    "                with open(logpath, 'w') as l:\n",
    "                    l.write(model_id)\n",
    "\n",
    "    except IndexError: # wenn Abbruch: berichten, und mit dem Rest weitermachen\n",
    "        # checken wie weit wir gekommen sind\n",
    "        with open(outpath, \"rb\") as f:\n",
    "            try:\n",
    "                f.seek(-2, os.SEEK_END)\n",
    "                while f.read(1) != b'\\n':\n",
    "                    f.seek(-2, os.SEEK_CUR)\n",
    "            except OSError:\n",
    "                f.seek(0)\n",
    "            last_line = f.readline().decode()\n",
    "            last_model = last_line.split(',')[-1].strip()\n",
    "            print(last_model)\n",
    "        print (\"bekannter Fehler bei ID {}, Download wird neu aufgenommen\".format(last_model))\n",
    "        # bei welcher URL geht es weiter?\n",
    "        for i,m in enumerate(alle_modelle):\n",
    "            if(re.search(last_model,m)):\n",
    "                break_index = i\n",
    "                # weiter mit restlichen Modellen\n",
    "                downloadModelle(alle_modelle[break_index:])"
   ]
  },
  {
   "cell_type": "code",
   "execution_count": 31,
   "id": "9c27e415-0100-4631-9c95-2213a03ca04d",
   "metadata": {},
   "outputs": [],
   "source": [
    "# pandas only\n",
    "def downloadModelle_pd(alle_modelle):\n",
    "    print('Zu ladende Modelle: {}'.format(len(alle_modelle)))\n",
    "    try: # der gesamte Prozess, wenn alles gut läuft\n",
    "        i=0\n",
    "        for modell_url in alle_modelle:\n",
    "            if i%100==0:\n",
    "                print('... {}'.format(i))\n",
    "            i += 1\n",
    "            ## Modell\n",
    "            model_id = re.findall('/(\\d+)/$',modell_url)[0]\n",
    "            tabellen = pd.read_html(modell_url)\n",
    "            tabelle = pd.concat(tabellen, axis=0)\n",
    "            tabelle['ADAC_id'] = model_id\n",
    "\n",
    "            # Technische Daten in Datei schreiben\n",
    "            tabelle[['Kategorie','Herstellerangabe','ADAC_id']\n",
    "                   ].dropna(subset='Kategorie'\n",
    "                    ).to_csv(outpath, index=False, mode='a', header=not (os.path.exists(outpath)))\n",
    "\n",
    "            # return\n",
    "            #return(tabelle)\n",
    "    except IndexError: # wenn Abbruch: berichten, und mit dem Rest weitermachen\n",
    "        # checken wie weit wir gekommen sind\n",
    "        with open(outpath, \"rb\") as f:\n",
    "            try:\n",
    "                f.seek(-2, os.SEEK_END)\n",
    "                while f.read(1) != b'\\n':\n",
    "                    f.seek(-2, os.SEEK_CUR)\n",
    "            except OSError:\n",
    "                f.seek(0)\n",
    "            last_line = f.readline().decode()\n",
    "            last_model = last_line.split(',')[-1].strip()\n",
    "            print(last_model)\n",
    "        print (\"bekannter Fehler bei ID {}, Download wird neu aufgenommen\".format(last_model))\n",
    "        # bei welcher URL geht es weiter?\n",
    "        for i,m in enumerate(alle_modelle):\n",
    "            if(re.search(last_model,m)):\n",
    "                break_index = i\n",
    "                # weiter mit restlichen Modellen\n",
    "                downloadModelle(alle_modelle[break_index:])"
   ]
  },
  {
   "cell_type": "code",
   "execution_count": 34,
   "id": "b943f1c0-ab61-4611-b7c6-7073c27eff65",
   "metadata": {
    "tags": []
   },
   "outputs": [
    {
     "name": "stdout",
     "output_type": "stream",
     "text": [
      "Zu ladende Modelle: 100\n",
      "... 0\n",
      "CPU times: user 11.1 s, sys: 286 ms, total: 11.4 s\n",
      "Wall time: 54 s\n"
     ]
    }
   ],
   "source": [
    "%time downloadModelle(alle_modelle[:100])"
   ]
  },
  {
   "cell_type": "code",
   "execution_count": 33,
   "id": "9e80bb72-1864-4a77-b0cd-d704a4bbac09",
   "metadata": {},
   "outputs": [
    {
     "name": "stdout",
     "output_type": "stream",
     "text": [
      "Zu ladende Modelle: 100\n",
      "... 0\n",
      "CPU times: user 4.05 s, sys: 149 ms, total: 4.2 s\n",
      "Wall time: 29.7 s\n"
     ]
    }
   ],
   "source": [
    "%time downloadModelle_pd(alle_modelle[:100])"
   ]
  },
  {
   "cell_type": "code",
   "execution_count": 27,
   "id": "f87ab958-5701-41e1-bc3b-fa7793eada2b",
   "metadata": {},
   "outputs": [
    {
     "name": "stdout",
     "output_type": "stream",
     "text": [
      "Zu ladende Modelle: 1\n",
      "... 0\n"
     ]
    },
    {
     "data": {
      "text/html": [
       "<div>\n",
       "<style scoped>\n",
       "    .dataframe tbody tr th:only-of-type {\n",
       "        vertical-align: middle;\n",
       "    }\n",
       "\n",
       "    .dataframe tbody tr th {\n",
       "        vertical-align: top;\n",
       "    }\n",
       "\n",
       "    .dataframe thead th {\n",
       "        text-align: right;\n",
       "    }\n",
       "</style>\n",
       "<table border=\"1\" class=\"dataframe\">\n",
       "  <thead>\n",
       "    <tr style=\"text-align: right;\">\n",
       "      <th></th>\n",
       "      <th>Kategorie</th>\n",
       "      <th>Herstellerangabe</th>\n",
       "      <th>ADAC_id</th>\n",
       "    </tr>\n",
       "  </thead>\n",
       "  <tbody>\n",
       "    <tr>\n",
       "      <th>0</th>\n",
       "      <td>Marke</td>\n",
       "      <td>VW</td>\n",
       "      <td>282366</td>\n",
       "    </tr>\n",
       "    <tr>\n",
       "      <th>1</th>\n",
       "      <td>Modell</td>\n",
       "      <td>411</td>\n",
       "      <td>282366</td>\n",
       "    </tr>\n",
       "    <tr>\n",
       "      <th>2</th>\n",
       "      <td>Baureihe</td>\n",
       "      <td>411 Limousine (08/68 - 08/72)</td>\n",
       "      <td>282366</td>\n",
       "    </tr>\n",
       "    <tr>\n",
       "      <th>3</th>\n",
       "      <td>Herstellerinterne Baureihenbezeichnung</td>\n",
       "      <td>411</td>\n",
       "      <td>282366</td>\n",
       "    </tr>\n",
       "    <tr>\n",
       "      <th>4</th>\n",
       "      <td>Modellstart</td>\n",
       "      <td>08/68</td>\n",
       "      <td>282366</td>\n",
       "    </tr>\n",
       "    <tr>\n",
       "      <th>...</th>\n",
       "      <td>...</td>\n",
       "      <td>...</td>\n",
       "      <td>...</td>\n",
       "    </tr>\n",
       "    <tr>\n",
       "      <th>2</th>\n",
       "      <td>Nebelscheinwerfer</td>\n",
       "      <td>Paket</td>\n",
       "      <td>282366</td>\n",
       "    </tr>\n",
       "    <tr>\n",
       "      <th>0</th>\n",
       "      <td>Grundpreis</td>\n",
       "      <td>4136 Euro</td>\n",
       "      <td>282366</td>\n",
       "    </tr>\n",
       "    <tr>\n",
       "      <th>1</th>\n",
       "      <td>KlassenÃ¼bliche Ausstattung nach ADAC-Vorgabe</td>\n",
       "      <td>k.A.</td>\n",
       "      <td>282366</td>\n",
       "    </tr>\n",
       "    <tr>\n",
       "      <th>2</th>\n",
       "      <td>Radio</td>\n",
       "      <td>Aufpreis (noch nicht bekannt)</td>\n",
       "      <td>282366</td>\n",
       "    </tr>\n",
       "    <tr>\n",
       "      <th>3</th>\n",
       "      <td>Metallic-Lackierung</td>\n",
       "      <td>Aufpreis (noch nicht bekannt)</td>\n",
       "      <td>282366</td>\n",
       "    </tr>\n",
       "  </tbody>\n",
       "</table>\n",
       "<p>66 rows × 3 columns</p>\n",
       "</div>"
      ],
      "text/plain": [
       "                                        Kategorie  \\\n",
       "0                                           Marke   \n",
       "1                                          Modell   \n",
       "2                                        Baureihe   \n",
       "3          Herstellerinterne Baureihenbezeichnung   \n",
       "4                                     Modellstart   \n",
       "..                                            ...   \n",
       "2                               Nebelscheinwerfer   \n",
       "0                                      Grundpreis   \n",
       "1   KlassenÃ¼bliche Ausstattung nach ADAC-Vorgabe   \n",
       "2                                           Radio   \n",
       "3                             Metallic-Lackierung   \n",
       "\n",
       "                 Herstellerangabe ADAC_id  \n",
       "0                              VW  282366  \n",
       "1                             411  282366  \n",
       "2   411 Limousine (08/68 - 08/72)  282366  \n",
       "3                             411  282366  \n",
       "4                           08/68  282366  \n",
       "..                            ...     ...  \n",
       "2                           Paket  282366  \n",
       "0                       4136 Euro  282366  \n",
       "1                            k.A.  282366  \n",
       "2   Aufpreis (noch nicht bekannt)  282366  \n",
       "3   Aufpreis (noch nicht bekannt)  282366  \n",
       "\n",
       "[66 rows x 3 columns]"
      ]
     },
     "execution_count": 27,
     "metadata": {},
     "output_type": "execute_result"
    }
   ],
   "source": [
    "downloadModelle_pd(alle_modelle[20:21])"
   ]
  },
  {
   "cell_type": "code",
   "execution_count": 20,
   "id": "db99ee4e-38fe-4335-ab4e-05deae467e56",
   "metadata": {},
   "outputs": [
    {
     "data": {
      "text/html": [
       "<div>\n",
       "<style scoped>\n",
       "    .dataframe tbody tr th:only-of-type {\n",
       "        vertical-align: middle;\n",
       "    }\n",
       "\n",
       "    .dataframe tbody tr th {\n",
       "        vertical-align: top;\n",
       "    }\n",
       "\n",
       "    .dataframe thead th {\n",
       "        text-align: right;\n",
       "    }\n",
       "</style>\n",
       "<table border=\"1\" class=\"dataframe\">\n",
       "  <thead>\n",
       "    <tr style=\"text-align: right;\">\n",
       "      <th></th>\n",
       "      <th>Kategorie</th>\n",
       "      <th>Herstellerangabe</th>\n",
       "      <th>ADAC_id</th>\n",
       "    </tr>\n",
       "  </thead>\n",
       "  <tbody>\n",
       "    <tr>\n",
       "      <th>0</th>\n",
       "      <td>Marke</td>\n",
       "      <td>VW</td>\n",
       "      <td>282385</td>\n",
       "    </tr>\n",
       "    <tr>\n",
       "      <th>1</th>\n",
       "      <td>Modell</td>\n",
       "      <td>1600</td>\n",
       "      <td>282385</td>\n",
       "    </tr>\n",
       "    <tr>\n",
       "      <th>2</th>\n",
       "      <td>Typ</td>\n",
       "      <td>TL</td>\n",
       "      <td>282385</td>\n",
       "    </tr>\n",
       "    <tr>\n",
       "      <th>3</th>\n",
       "      <td>Baureihe</td>\n",
       "      <td>1600 (Typ 3) SchrÃ¤gheck (08/65 - 08/69)</td>\n",
       "      <td>282385</td>\n",
       "    </tr>\n",
       "    <tr>\n",
       "      <th>4</th>\n",
       "      <td>Herstellerinterne Baureihenbezeichnung</td>\n",
       "      <td>Typ 3</td>\n",
       "      <td>282385</td>\n",
       "    </tr>\n",
       "    <tr>\n",
       "      <th>...</th>\n",
       "      <td>...</td>\n",
       "      <td>...</td>\n",
       "      <td>...</td>\n",
       "    </tr>\n",
       "    <tr>\n",
       "      <th>2</th>\n",
       "      <td>Nebelscheinwerfer</td>\n",
       "      <td>Paket</td>\n",
       "      <td>282385</td>\n",
       "    </tr>\n",
       "    <tr>\n",
       "      <th>0</th>\n",
       "      <td>Grundpreis</td>\n",
       "      <td>3615 Euro</td>\n",
       "      <td>282385</td>\n",
       "    </tr>\n",
       "    <tr>\n",
       "      <th>1</th>\n",
       "      <td>KlassenÃ¼bliche Ausstattung nach ADAC-Vorgabe</td>\n",
       "      <td>k.A.</td>\n",
       "      <td>282385</td>\n",
       "    </tr>\n",
       "    <tr>\n",
       "      <th>2</th>\n",
       "      <td>Radio</td>\n",
       "      <td>Aufpreis (noch nicht bekannt)</td>\n",
       "      <td>282385</td>\n",
       "    </tr>\n",
       "    <tr>\n",
       "      <th>3</th>\n",
       "      <td>Metallic-Lackierung</td>\n",
       "      <td>Aufpreis (noch nicht bekannt)</td>\n",
       "      <td>282385</td>\n",
       "    </tr>\n",
       "  </tbody>\n",
       "</table>\n",
       "<p>65 rows × 3 columns</p>\n",
       "</div>"
      ],
      "text/plain": [
       "                                        Kategorie  \\\n",
       "0                                           Marke   \n",
       "1                                          Modell   \n",
       "2                                             Typ   \n",
       "3                                        Baureihe   \n",
       "4          Herstellerinterne Baureihenbezeichnung   \n",
       "..                                            ...   \n",
       "2                               Nebelscheinwerfer   \n",
       "0                                      Grundpreis   \n",
       "1   KlassenÃ¼bliche Ausstattung nach ADAC-Vorgabe   \n",
       "2                                           Radio   \n",
       "3                             Metallic-Lackierung   \n",
       "\n",
       "                            Herstellerangabe ADAC_id  \n",
       "0                                         VW  282385  \n",
       "1                                       1600  282385  \n",
       "2                                         TL  282385  \n",
       "3   1600 (Typ 3) SchrÃ¤gheck (08/65 - 08/69)  282385  \n",
       "4                                      Typ 3  282385  \n",
       "..                                       ...     ...  \n",
       "2                                      Paket  282385  \n",
       "0                                  3615 Euro  282385  \n",
       "1                                       k.A.  282385  \n",
       "2              Aufpreis (noch nicht bekannt)  282385  \n",
       "3              Aufpreis (noch nicht bekannt)  282385  \n",
       "\n",
       "[65 rows x 3 columns]"
      ]
     },
     "execution_count": 20,
     "metadata": {},
     "output_type": "execute_result"
    }
   ],
   "source": [
    "import itertools\n",
    "\n",
    "modell_url = alle_modelle[5]\n",
    "\n",
    "model_id = re.findall('/(\\d+)/$',modell_url)[0]\n",
    "            \n",
    "r_modell = requests.get(modell_url + '#technische-daten')\n",
    "\n",
    "modell_soup = BeautifulSoup(r_modell.text, 'html.parser')\n",
    "\n",
    "tabellen = pd.read_html(modell_url)\n",
    "\n",
    "tabelle = pd.concat(tabellen, axis=0)\n",
    "\n",
    "tabelle['ADAC_id'] = model_id\n",
    "\n",
    "tabelle\n",
    "\n",
    "# technische_daten = modell_soup.find_all('div', \n",
    "#                                         {\"title\" : \"Technische Daten\"})\n",
    "\n",
    "# if len(technische_daten) > 0: # es scheinen ein paar Seiten ohne technische Daten dabei zu sein--diese überspringen\n",
    "#     tabellen = technische_daten[0].find_all('table')\n",
    "#     for t in tabellen:\n",
    "#         print(pd.read_html(t))\n",
    "#     # tabellen = [pd.read_html(t) if not (t is None) else None for t in tabellen]\n",
    "#     ## Daten zusammensetzen"
   ]
  },
  {
   "cell_type": "markdown",
   "id": "9c0b029f-3344-4234-b01d-177e3b3b547a",
   "metadata": {},
   "source": [
    "Recovery"
   ]
  },
  {
   "cell_type": "code",
   "execution_count": 8,
   "id": "f5e38516-dad9-4b83-bc5e-29eb2ce5ac08",
   "metadata": {},
   "outputs": [],
   "source": [
    "outpath = \"../out/20220602-1824_adac_data.csv\"\n",
    "with open(outpath, \"rb\") as file:\n",
    "    try:\n",
    "        file.seek(-2, os.SEEK_END)\n",
    "        while file.read(1) != b'\\n':\n",
    "            file.seek(-2, os.SEEK_CUR)\n",
    "    except OSError:\n",
    "        file.seek(0)\n",
    "    last_line = file.readline().decode()\n",
    "    last_model = last_line.split(',')[-1].strip()"
   ]
  },
  {
   "cell_type": "code",
   "execution_count": 47,
   "id": "25a121c1-7831-449d-ba50-15ec6ff13a9d",
   "metadata": {},
   "outputs": [
    {
     "data": {
      "text/plain": [
       "'312262'"
      ]
     },
     "execution_count": 47,
     "metadata": {},
     "output_type": "execute_result"
    }
   ],
   "source": [
    "last_model"
   ]
  },
  {
   "cell_type": "code",
   "execution_count": 20,
   "id": "ef5da169-a6c3-43dc-b0bd-ecc4cdac27bd",
   "metadata": {},
   "outputs": [],
   "source": [
    "for i,m in enumerate(alle_modelle):\n",
    "    # print(m)\n",
    "    if(re.search(last_model,m)):\n",
    "        this_index = i"
   ]
  },
  {
   "cell_type": "code",
   "execution_count": 30,
   "id": "6aa4305d-801c-4803-a686-2de2004f3a26",
   "metadata": {},
   "outputs": [
    {
     "data": {
      "text/plain": [
       "88064"
      ]
     },
     "execution_count": 30,
     "metadata": {},
     "output_type": "execute_result"
    }
   ],
   "source": [
    "this_index"
   ]
  },
  {
   "cell_type": "code",
   "execution_count": null,
   "id": "d5b0d20f-0d59-4e18-9c36-63d5b473c210",
   "metadata": {
    "tags": []
   },
   "outputs": [
    {
     "name": "stdout",
     "output_type": "stream",
     "text": [
      "Zu ladende Modelle: 53828\n",
      "... 0\n",
      "... 100\n",
      "... 200\n",
      "... 300\n",
      "... 400\n",
      "... 500\n",
      "... 600\n",
      "... 700\n",
      "... 800\n",
      "... 900\n",
      "... 1000\n",
      "... 1100\n"
     ]
    }
   ],
   "source": [
    "downloadModelle(alle_modelle[this_index:])"
   ]
  },
  {
   "cell_type": "code",
   "execution_count": 122,
   "id": "e5b7a981-fae8-417f-9257-2ac34d10f7dc",
   "metadata": {},
   "outputs": [],
   "source": [
    "modell = alle_modelle[break_index]\n",
    "## Modell\n",
    "r_modell = requests.get(modell_url + '#technische-daten')\n",
    "\n",
    "modell_soup = BeautifulSoup(r_modell.text, 'html.parser')\n",
    "\n",
    "technische_daten = modell_soup.find_all('div', \n",
    "                                       {\"title\" : \"Technische Daten\"})\n",
    "if len(technische_daten)>0:\n",
    "    tabellen = technische_daten[0].find_all('table')\n",
    "\n",
    "    ## Daten zusammensetzen\n",
    "    model_id = re.findall('/(\\d+)/$',modell_url)[0]\n",
    "\n",
    "    # Tabellen parsen\n",
    "    df = pd.DataFrame()\n",
    "    for t in tabellen:\n",
    "        kategorien = [kategorie.text for kategorie in t.find_all('td', class_='sc-hDzdEj kyOEig')]\n",
    "        werte = [wert.text for wert in t.find_all('td', class_='sc-hDzdEj cGvlQj')]\n",
    "        df = pd.concat([df, pd.DataFrame({'Kategorie': kategorien, 'Wert':werte})])\n",
    "    df['ADAC_id'] = model_id\n",
    "else:\n",
    "    pass"
   ]
  },
  {
   "cell_type": "code",
   "execution_count": 123,
   "id": "db29543a-5316-496d-bb99-acb7df185d18",
   "metadata": {},
   "outputs": [
    {
     "data": {
      "text/plain": [
       "[<div class=\"sc-kgwpUT elYZLd\" title=\"Technische Daten\"><main class=\"sc-hrJsxi iNFSzo\"><div class=\"sc-gsFzgR gJFhVJ sc-cAhXWc jXueoB sc-gqtqkP eWGAvb\" data-testid=\"grid-item\"><div class=\"sc-iztaBw cLpCvt\"><div class=\"sc-dhCHPp faCwnu\"><div class=\"sc-igXgud ccpZNE sc-itWPBs fUUgPV\"><picture class=\"sc-gHjyzD czgTrL\" data-testid=\"technical-car-image\"><source media=\"(min-width: 0px)\" sizes=\"410\" srcset=\"https://assets.adac.de/image/upload/ar_16:9,c_fill,f_auto,g_auto,q_auto:eco,w_410/v1/Autodatenbank/Fahrzeugbilder/im04834-1-hyundai-i10.jpg 410w, https://assets.adac.de/image/upload/ar_16:9,c_fill,f_auto,g_auto,q_auto:eco,w_820/v1/Autodatenbank/Fahrzeugbilder/im04834-1-hyundai-i10.jpg 820w,\"/><img alt=\"i10 1.2\" class=\"sc-JEhMO dKwzVf\" data-src=\"https://assets.adac.de/image/upload/ar_16:9,c_fill,f_auto,g_auto,q_auto:eco,w_410/v1/Autodatenbank/Fahrzeugbilder/im04834-1-hyundai-i10.jpg\" loading=\"lazy\" title=\"i10 1.2\"/></picture></div></div><div class=\"sc-kxIisj eRAhYE\"><div class=\"sc-eAcRFu bYgiLw\"><svg class=\"sc-cidDSM cXGIAa\" height=\"24\" viewbox=\"0 0 24 24\" width=\"24\"><path d=\"M5 4h18v12H5V4zm9 3a3 3 0 1 1 0 6 3 3 0 0 1 0-6zM9 6a2 2 0 0 1-2 2v4a2 2 0 0 1 2 2h10a2 2 0 0 1 2-2V8a2 2 0 0 1-2-2H9zM1 8h2v10h16v2H1V8z\" fill=\"rgba(0, 0, 0, 0.6)\" fill-rule=\"nonzero\"></path></svg><div class=\"sc-sSlZS fuCeaq\"><p class=\"font-sans font-bold text-black90 text-lg leading-5 md:text-xl sc-XxNYO esgOdO\">14.850 €</p><p class=\"font-sans font-normal text-black60 text-base leading-5 sc-XxNYO esgOdO\">Grundpreis</p></div></div><div class=\"sc-eAcRFu bYgiLw\"><svg class=\"sc-ezbkAF fmGXHP\" height=\"24\" viewbox=\"0 0 24 24\" width=\"24\"><path d=\"M18 10a1 1 0 1 1 0-2 1 1 0 0 1 0 2zm-6 0H6V5h6v5zm7.77-2.77l.01-.01-3.72-3.72L15 4.56l2.11 2.11C16.17 7 15.5 7.93 15.5 9a2.5 2.5 0 0 0 2.5 2.5c.36 0 .69-.08 1-.21v7.21a1 1 0 0 1-2 0V14a2 2 0 0 0-2-2h-1V5a2 2 0 0 0-2-2H6c-1.11 0-2 .89-2 2v16h10v-7.5h1.5v5a2.5 2.5 0 1 0 5 0V9c0-.69-.28-1.32-.73-1.77z\" fill=\"rgba(0, 0, 0, 0.6)\"></path></svg><div class=\"sc-sSlZS fuCeaq\"><p class=\"font-sans font-bold text-black90 text-lg leading-5 md:text-xl sc-XxNYO esgOdO\">6,2 l/100 km</p><p class=\"font-sans font-normal text-black60 text-base leading-5 sc-XxNYO esgOdO\">Verbrauch</p></div></div><div class=\"sc-eAcRFu bYgiLw\"><svg class=\"sc-giYglK gKjFct\" height=\"24\" viewbox=\"0 0 24 24\" width=\"24\"><path d=\"M12 2a10 10 0 0 1 10 10c0 5.523-4.477 10-10 10a10 10 0 1 1 0-20zm0 2a8 8 0 0 0-8 8c0 2.4 1 4.5 2.7 6 1.4-1.3 3.3-2 5.3-2s3.8.7 5.3 2c1.7-1.5 2.7-3.6 2.7-6a8 8 0 0 0-8-8zm-2 1.89c.38.01.74.26.9.65l1.29 3.23.1.23c.71.13 1.3.6 1.57 1.26.41 1.03-.09 2.19-1.12 2.6-1.03.41-2.19-.09-2.6-1.12-.26-.66-.14-1.42.29-1.98l-.1-.26-1.29-3.21-.01-.03c-.2-.51.05-1.09.56-1.3.13-.05.26-.07.41-.07zM14 6a1 1 0 1 1 0 2 1 1 0 0 1 0-2zm3 3a1 1 0 1 1 0 2 1 1 0 0 1 0-2zM7 9a1 1 0 1 1 0 2 1 1 0 0 1 0-2z\" fill=\"rgba(0, 0, 0, 0.6)\"></path></svg><div class=\"sc-sSlZS fuCeaq\"><p class=\"font-sans font-bold text-black90 text-lg leading-5 md:text-xl sc-XxNYO esgOdO\">64 kW (87 PS)</p><p class=\"font-sans font-normal text-black60 text-base leading-5 sc-XxNYO esgOdO\">Leistung</p></div></div><div class=\"sc-eAcRFu bYgiLw\"><svg class=\"sc-bBHxTw efQXcx\" height=\"24\" viewbox=\"0 0 24 24\" width=\"24\"><path d=\"M7 4v2h3v2H7l-2 2v3H3v-3H1v8h2v-3h2v3h3l2 2h8v-4h2v3h3V9h-3v3h-2V8h-6V6h3V4z\" fill=\"rgba(0, 0, 0, 0.6)\"></path></svg><div class=\"sc-sSlZS fuCeaq\"><p class=\"font-sans font-bold text-black90 text-lg leading-5 md:text-xl sc-XxNYO esgOdO\">1248 ccm</p><p class=\"font-sans font-normal text-black60 text-base leading-5 sc-XxNYO esgOdO\">Hubraum</p></div></div></div></div></div><div class=\"sc-gsFzgR jjFjOV sc-cAhXWc eJeRqZ sc-gqtqkP eWGAvb\" data-testid=\"grid-item\"><div class=\"sc-hJhJFJ edAzya sc-fTQvRK ktGqzC sc-bUhFKy sc-frCSdB bCkWag jTHbXh\" data-testid=\"table-of-contents\"><div class=\"sc-lhMiDA lipMmv\" role=\"button\" tabindex=\"0\"><div class=\"sc-fWisXe kEwrVL\"><p class=\"font-sans font-bold text-black90 text-base leading-5 sc-XxNYO esgOdO\">Inhaltsverzeichnis</p><svg class=\"sc-fHeRUh iKAGuO\" fill=\"rgba(0, 0, 0, 0.6)\" height=\"24\" width=\"24\"><use xlink:href=\"/assets/ui/shared-icons.svg?v2#ChevronUp\"></use></svg></div></div><div class=\"sc-cvlWTT evEUEV\"><div class=\"sc-EsakX ioDGJM\"><div class=\"sc-fUQcsx sc-iJCbQK KBaGu laPAiK\"><div class=\"sc-gDGHff sc-iLOkMM sc-kJtkPI izgKRR cqfevz dQtXJE\" medium=\"6\"><a class=\"_3ftC1Rq-YTYXeT56kpixgw sc-gKdbTG bdBjtt\" href=\"#allgemein\"><svg aria-hidden=\"true\" class=\"_1Y_henp7dZOJvexe8uTIvQ\" height=\"16\" viewbox=\"0 0 24 24\" width=\"16\"><path d=\"M8.59 16.58L13.17 12 8.59 7.41 10 6l6 6-6 6z\" fill-rule=\"nonzero\"></path></svg><p class=\"sc-bsmJhz jRVSKm\">Allgemein</p></a></div><div class=\"sc-gDGHff sc-iLOkMM sc-kJtkPI izgKRR cqfevz dQtXJE\" medium=\"6\"><a class=\"_3ftC1Rq-YTYXeT56kpixgw sc-gKdbTG bdBjtt\" href=\"#motor-und-antrieb\"><svg aria-hidden=\"true\" class=\"_1Y_henp7dZOJvexe8uTIvQ\" height=\"16\" viewbox=\"0 0 24 24\" width=\"16\"><path d=\"M8.59 16.58L13.17 12 8.59 7.41 10 6l6 6-6 6z\" fill-rule=\"nonzero\"></path></svg><p class=\"sc-bsmJhz jRVSKm\">Motor und Antrieb</p></a></div><div class=\"sc-gDGHff sc-iLOkMM sc-kJtkPI izgKRR cqfevz dQtXJE\" medium=\"6\"><a class=\"_3ftC1Rq-YTYXeT56kpixgw sc-gKdbTG bdBjtt\" href=\"#masse-und-gewichte\"><svg aria-hidden=\"true\" class=\"_1Y_henp7dZOJvexe8uTIvQ\" height=\"16\" viewbox=\"0 0 24 24\" width=\"16\"><path d=\"M8.59 16.58L13.17 12 8.59 7.41 10 6l6 6-6 6z\" fill-rule=\"nonzero\"></path></svg><p class=\"sc-bsmJhz jRVSKm\">Maße und Gewichte</p></a></div><div class=\"sc-gDGHff sc-iLOkMM sc-kJtkPI izgKRR cqfevz dQtXJE\" medium=\"6\"><a class=\"_3ftC1Rq-YTYXeT56kpixgw sc-gKdbTG bdBjtt\" href=\"#karosserie-und-fahrwerk\"><svg aria-hidden=\"true\" class=\"_1Y_henp7dZOJvexe8uTIvQ\" height=\"16\" viewbox=\"0 0 24 24\" width=\"16\"><path d=\"M8.59 16.58L13.17 12 8.59 7.41 10 6l6 6-6 6z\" fill-rule=\"nonzero\"></path></svg><p class=\"sc-bsmJhz jRVSKm\">Karosserie und Fahrwerk</p></a></div><div class=\"sc-gDGHff sc-iLOkMM sc-kJtkPI izgKRR cqfevz dQtXJE\" medium=\"6\"><a class=\"_3ftC1Rq-YTYXeT56kpixgw sc-gKdbTG bdBjtt\" href=\"#messwerte-hersteller\"><svg aria-hidden=\"true\" class=\"_1Y_henp7dZOJvexe8uTIvQ\" height=\"16\" viewbox=\"0 0 24 24\" width=\"16\"><path d=\"M8.59 16.58L13.17 12 8.59 7.41 10 6l6 6-6 6z\" fill-rule=\"nonzero\"></path></svg><p class=\"sc-bsmJhz jRVSKm\">Messwerte Hersteller</p></a></div><div class=\"sc-gDGHff sc-iLOkMM sc-kJtkPI izgKRR cqfevz dQtXJE\" medium=\"6\"><a class=\"_3ftC1Rq-YTYXeT56kpixgw sc-gKdbTG bdBjtt\" href=\"#sicherheitsausstattung\"><svg aria-hidden=\"true\" class=\"_1Y_henp7dZOJvexe8uTIvQ\" height=\"16\" viewbox=\"0 0 24 24\" width=\"16\"><path d=\"M8.59 16.58L13.17 12 8.59 7.41 10 6l6 6-6 6z\" fill-rule=\"nonzero\"></path></svg><p class=\"sc-bsmJhz jRVSKm\">Sicherheitsausstattung</p></a></div><div class=\"sc-gDGHff sc-iLOkMM sc-kJtkPI izgKRR cqfevz dQtXJE\" medium=\"6\"><a class=\"_3ftC1Rq-YTYXeT56kpixgw sc-gKdbTG bdBjtt\" href=\"#herstellergarantien\"><svg aria-hidden=\"true\" class=\"_1Y_henp7dZOJvexe8uTIvQ\" height=\"16\" viewbox=\"0 0 24 24\" width=\"16\"><path d=\"M8.59 16.58L13.17 12 8.59 7.41 10 6l6 6-6 6z\" fill-rule=\"nonzero\"></path></svg><p class=\"sc-bsmJhz jRVSKm\">Herstellergarantien</p></a></div><div class=\"sc-gDGHff sc-iLOkMM sc-kJtkPI izgKRR cqfevz dQtXJE\" medium=\"6\"><a class=\"_3ftC1Rq-YTYXeT56kpixgw sc-gKdbTG bdBjtt\" href=\"#preise-und-ausstattung\"><svg aria-hidden=\"true\" class=\"_1Y_henp7dZOJvexe8uTIvQ\" height=\"16\" viewbox=\"0 0 24 24\" width=\"16\"><path d=\"M8.59 16.58L13.17 12 8.59 7.41 10 6l6 6-6 6z\" fill-rule=\"nonzero\"></path></svg><p class=\"sc-bsmJhz jRVSKm\">Preise und Ausstattung</p></a></div></div></div></div></div></div><div class=\"sc-gsFzgR cJDDxJ sc-cAhXWc bRHLos sc-gqtqkP eWGAvb\" data-testid=\"grid-item\"><div><h3 class=\"_3zBiXS0-XUoow9ihHCZSvf YtkX_a9mrN7Zk0Nj2A3cp _1O1KjEmh68E7ZUI8CcoBTW sc-iqVWFU sc-fMfAsl cTpfPG ftRnUw\" id=\"allgemein\">Allgemein</h3><div class=\"sc-kiwPtn kEZMXn sc-cAUCVt fjOLa-d\" data-testid=\"table\"><table class=\"sc-bePbDJ sc-lcdCCa ijVsTE hvmJsE\"><thead class=\"sc-hFLmAl oPpsT\"><tr class=\"sc-bcCSHH hJYDw\"><th class=\"sc-lepLyc eRBYPR\"><p class=\"font-sans font-normal text-black60 text-base leading-5 sc-XxNYO esgOdO\">Kategorie</p></th><th class=\"sc-lepLyc eRBYPR\"><p class=\"font-sans font-normal text-black60 text-base leading-5 sc-XxNYO esgOdO\">Herstellerangabe</p></th></tr></thead><tbody class=\"sc-eDtABA fqhEfw\"><tr class=\"sc-bcCSHH hJYDw\"><td class=\"sc-eBhrFy kQHQjL\" width=\"50%\">Marke</td><td class=\"sc-eBhrFy iKCSrk\">Hyundai</td></tr><tr class=\"sc-bcCSHH hJYDw\"><td class=\"sc-eBhrFy kQHQjL\" width=\"50%\">Modell</td><td class=\"sc-eBhrFy iKCSrk\">i10 1.2</td></tr><tr class=\"sc-bcCSHH hJYDw\"><td class=\"sc-eBhrFy kQHQjL\" width=\"50%\">Typ</td><td class=\"sc-eBhrFy iKCSrk\">YES! Automatik</td></tr><tr class=\"sc-bcCSHH hJYDw\"><td class=\"sc-eBhrFy kQHQjL\" width=\"50%\">Baureihe</td><td class=\"sc-eBhrFy iKCSrk\">i10 (IA) (01/17 - 12/19)</td></tr><tr class=\"sc-bcCSHH hJYDw\"><td class=\"sc-eBhrFy kQHQjL\" width=\"50%\">Herstellerinterne Baureihenbezeichnung</td><td class=\"sc-eBhrFy iKCSrk\">IA</td></tr><tr class=\"sc-bcCSHH hJYDw\"><td class=\"sc-eBhrFy kQHQjL\" width=\"50%\">Modellstart</td><td class=\"sc-eBhrFy iKCSrk\">01/19</td></tr><tr class=\"sc-bcCSHH hJYDw\"><td class=\"sc-eBhrFy kQHQjL\" width=\"50%\">Modellende</td><td class=\"sc-eBhrFy iKCSrk\">04/19</td></tr><tr class=\"sc-bcCSHH hJYDw\"><td class=\"sc-eBhrFy kQHQjL\" width=\"50%\">Baureihenstart</td><td class=\"sc-eBhrFy iKCSrk\">01/17</td></tr><tr class=\"sc-bcCSHH hJYDw\"><td class=\"sc-eBhrFy kQHQjL\" width=\"50%\">Baureihenende</td><td class=\"sc-eBhrFy iKCSrk\">12/19</td></tr><tr class=\"sc-bcCSHH hJYDw\"><td class=\"sc-eBhrFy kQHQjL\" width=\"50%\">HSN Schlüsselnummer</td><td class=\"sc-eBhrFy iKCSrk\">5984</td></tr><tr class=\"sc-bcCSHH hJYDw\"><td class=\"sc-eBhrFy kQHQjL\" width=\"50%\">TSN Schlüsselnummer</td><td class=\"sc-eBhrFy iKCSrk\">AAU</td></tr><tr class=\"sc-bcCSHH hJYDw\"><td class=\"sc-eBhrFy kQHQjL\" width=\"50%\">TSN Schlüsselnummer 2</td><td class=\"sc-eBhrFy iKCSrk\">ABB</td></tr><tr class=\"sc-bcCSHH hJYDw\"><td class=\"sc-eBhrFy kQHQjL\" width=\"50%\">KFZ-Steuer ohne Befreiung/Jahr (kann durch WLTP abweichen)</td><td class=\"sc-eBhrFy iKCSrk\">154 Euro</td></tr><tr class=\"sc-bcCSHH hJYDw\"><td class=\"sc-eBhrFy kQHQjL\" width=\"50%\">CO2-Effizienzklasse </td><td class=\"sc-eBhrFy iKCSrk\">F</td></tr><tr class=\"sc-bcCSHH hJYDw\"><td class=\"sc-eBhrFy kQHQjL\" width=\"50%\">Grundpreis</td><td class=\"sc-eBhrFy iKCSrk\">14850 Euro</td></tr></tbody></table></div></div><div><h3 class=\"_3zBiXS0-XUoow9ihHCZSvf YtkX_a9mrN7Zk0Nj2A3cp _1O1KjEmh68E7ZUI8CcoBTW sc-iqVWFU sc-fMfAsl cTpfPG ftRnUw\" id=\"motor-und-antrieb\">Motor und Antrieb</h3><div class=\"sc-kiwPtn kEZMXn sc-cAUCVt fjOLa-d\" data-testid=\"table\"><table class=\"sc-bePbDJ sc-lcdCCa ijVsTE hvmJsE\"><thead class=\"sc-hFLmAl oPpsT\"><tr class=\"sc-bcCSHH hJYDw\"><th class=\"sc-lepLyc eRBYPR\"><p class=\"font-sans font-normal text-black60 text-base leading-5 sc-XxNYO esgOdO\">Kategorie</p></th><th class=\"sc-lepLyc eRBYPR\"><p class=\"font-sans font-normal text-black60 text-base leading-5 sc-XxNYO esgOdO\">Herstellerangabe</p></th></tr></thead><tbody class=\"sc-eDtABA fqhEfw\"><tr class=\"sc-bcCSHH hJYDw\"><td class=\"sc-eBhrFy kQHQjL\" width=\"50%\">Motorart</td><td class=\"sc-eBhrFy iKCSrk\">Otto</td></tr><tr class=\"sc-bcCSHH hJYDw\"><td class=\"sc-eBhrFy kQHQjL\" width=\"50%\">Motorcode</td><td class=\"sc-eBhrFy iKCSrk\">G4LA</td></tr><tr class=\"sc-bcCSHH hJYDw\"><td class=\"sc-eBhrFy kQHQjL\" width=\"50%\">Leistung maximal in kW (Systemleistung)</td><td class=\"sc-eBhrFy iKCSrk\">64</td></tr><tr class=\"sc-bcCSHH hJYDw\"><td class=\"sc-eBhrFy kQHQjL\" width=\"50%\">Leistung maximal in PS (Systemleistung)</td><td class=\"sc-eBhrFy iKCSrk\">87</td></tr><tr class=\"sc-bcCSHH hJYDw\"><td class=\"sc-eBhrFy kQHQjL\" width=\"50%\">Drehmoment (Systemleistung)</td><td class=\"sc-eBhrFy iKCSrk\">121 Nm</td></tr><tr class=\"sc-bcCSHH hJYDw\"><td class=\"sc-eBhrFy kQHQjL\" width=\"50%\">Kraftstoffart</td><td class=\"sc-eBhrFy iKCSrk\">Super</td></tr><tr class=\"sc-bcCSHH hJYDw\"><td class=\"sc-eBhrFy kQHQjL\" width=\"50%\">Antriebsart</td><td class=\"sc-eBhrFy iKCSrk\">Front</td></tr><tr class=\"sc-bcCSHH hJYDw\"><td class=\"sc-eBhrFy kQHQjL\" width=\"50%\">Getriebeart</td><td class=\"sc-eBhrFy iKCSrk\">Automatikgetriebe</td></tr><tr class=\"sc-bcCSHH hJYDw\"><td class=\"sc-eBhrFy kQHQjL\" width=\"50%\">Anzahl Gänge</td><td class=\"sc-eBhrFy iKCSrk\">4</td></tr><tr class=\"sc-bcCSHH hJYDw\"><td class=\"sc-eBhrFy kQHQjL\" width=\"50%\">Schadstoffklasse</td><td class=\"sc-eBhrFy iKCSrk\">Euro 6d-TEMP (WLTP) 36AG-AI</td></tr><tr class=\"sc-bcCSHH hJYDw\"><td class=\"sc-eBhrFy kQHQjL\" width=\"50%\">Einbauposition / Motorbauart (Verbrennungsmotor)</td><td class=\"sc-eBhrFy iKCSrk\">Frontmotor / Reihe</td></tr><tr class=\"sc-bcCSHH hJYDw\"><td class=\"sc-eBhrFy kQHQjL\" width=\"50%\">Abgasreinigung (Verbrennungsmotor)</td><td class=\"sc-eBhrFy iKCSrk\">geregelt</td></tr><tr class=\"sc-bcCSHH hJYDw\"><td class=\"sc-eBhrFy kQHQjL\" width=\"50%\">Anzahl Zylinder (Verbrennungsmotor)</td><td class=\"sc-eBhrFy iKCSrk\">4</td></tr><tr class=\"sc-bcCSHH hJYDw\"><td class=\"sc-eBhrFy kQHQjL\" width=\"50%\">Gemischaufbereitung (Verbrennungsmotor)</td><td class=\"sc-eBhrFy iKCSrk\">Einspritzung</td></tr><tr class=\"sc-bcCSHH hJYDw\"><td class=\"sc-eBhrFy kQHQjL\" width=\"50%\">Anzahl Ventile (Verbrennungsmotor)</td><td class=\"sc-eBhrFy iKCSrk\">4</td></tr><tr class=\"sc-bcCSHH hJYDw\"><td class=\"sc-eBhrFy kQHQjL\" width=\"50%\">Hubraum (Verbrennungsmotor)</td><td class=\"sc-eBhrFy iKCSrk\">1248 ccm</td></tr><tr class=\"sc-bcCSHH hJYDw\"><td class=\"sc-eBhrFy kQHQjL\" width=\"50%\">Leistung / Drehmoment (Verbrennungsmotor)</td><td class=\"sc-eBhrFy iKCSrk\">64 kW (87 PS) / 121 Nm</td></tr><tr class=\"sc-bcCSHH hJYDw\"><td class=\"sc-eBhrFy kQHQjL\" width=\"50%\">Leistung maximal bei U/min. (Verbrennungsmotor)</td><td class=\"sc-eBhrFy iKCSrk\">6000 U/min</td></tr><tr class=\"sc-bcCSHH hJYDw\"><td class=\"sc-eBhrFy kQHQjL\" width=\"50%\">Drehmoment maximal bei U/min. (Verbrennungsmotor)</td><td class=\"sc-eBhrFy iKCSrk\">4000 U/min</td></tr></tbody></table></div></div><div><h3 class=\"_3zBiXS0-XUoow9ihHCZSvf YtkX_a9mrN7Zk0Nj2A3cp _1O1KjEmh68E7ZUI8CcoBTW sc-iqVWFU sc-fMfAsl cTpfPG ftRnUw\" id=\"masse-und-gewichte\">Maße und Gewichte</h3><div class=\"sc-kiwPtn kEZMXn sc-cAUCVt fjOLa-d\" data-testid=\"table\"><table class=\"sc-bePbDJ sc-lcdCCa ijVsTE hvmJsE\"><thead class=\"sc-hFLmAl oPpsT\"><tr class=\"sc-bcCSHH hJYDw\"><th class=\"sc-lepLyc eRBYPR\"><p class=\"font-sans font-normal text-black60 text-base leading-5 sc-XxNYO esgOdO\">Kategorie</p></th><th class=\"sc-lepLyc eRBYPR\"><p class=\"font-sans font-normal text-black60 text-base leading-5 sc-XxNYO esgOdO\">Herstellerangabe</p></th></tr></thead><tbody class=\"sc-eDtABA fqhEfw\"><tr class=\"sc-bcCSHH hJYDw\"><td class=\"sc-eBhrFy kQHQjL\" width=\"50%\">Länge </td><td class=\"sc-eBhrFy iKCSrk\">3665 mm</td></tr><tr class=\"sc-bcCSHH hJYDw\"><td class=\"sc-eBhrFy kQHQjL\" width=\"50%\">Breite</td><td class=\"sc-eBhrFy iKCSrk\">1660 mm</td></tr><tr class=\"sc-bcCSHH hJYDw\"><td class=\"sc-eBhrFy kQHQjL\" width=\"50%\">Breite (inkl. Außenspiegel)</td><td class=\"sc-eBhrFy iKCSrk\">1970 mm</td></tr><tr class=\"sc-bcCSHH hJYDw\"><td class=\"sc-eBhrFy kQHQjL\" width=\"50%\">Höhe</td><td class=\"sc-eBhrFy iKCSrk\">1500 mm</td></tr><tr class=\"sc-bcCSHH hJYDw\"><td class=\"sc-eBhrFy kQHQjL\" width=\"50%\">Radstand</td><td class=\"sc-eBhrFy iKCSrk\">2385 mm</td></tr><tr class=\"sc-bcCSHH hJYDw\"><td class=\"sc-eBhrFy kQHQjL\" width=\"50%\">Bodenfreiheit maximal</td><td class=\"sc-eBhrFy iKCSrk\">n.b.</td></tr><tr class=\"sc-bcCSHH hJYDw\"><td class=\"sc-eBhrFy kQHQjL\" width=\"50%\">Wendekreis</td><td class=\"sc-eBhrFy iKCSrk\">9,6 m</td></tr><tr class=\"sc-bcCSHH hJYDw\"><td class=\"sc-eBhrFy kQHQjL\" width=\"50%\">Kofferraumvolumen normal</td><td class=\"sc-eBhrFy iKCSrk\">252 l</td></tr><tr class=\"sc-bcCSHH hJYDw\"><td class=\"sc-eBhrFy kQHQjL\" width=\"50%\">Kofferraumvolumen dachhoch mit umgeklappter Rücksitzbank</td><td class=\"sc-eBhrFy iKCSrk\">1046 l</td></tr><tr class=\"sc-bcCSHH hJYDw\"><td class=\"sc-eBhrFy kQHQjL\" width=\"50%\">Rücksitzbank umklappbar</td><td class=\"sc-eBhrFy iKCSrk\">Serie</td></tr><tr class=\"sc-bcCSHH hJYDw\"><td class=\"sc-eBhrFy kQHQjL\" width=\"50%\">Leergewicht (EU)</td><td class=\"sc-eBhrFy iKCSrk\">1036 kg</td></tr><tr class=\"sc-bcCSHH hJYDw\"><td class=\"sc-eBhrFy kQHQjL\" width=\"50%\">Zul. Gesamtgewicht</td><td class=\"sc-eBhrFy iKCSrk\">1455 kg</td></tr><tr class=\"sc-bcCSHH hJYDw\"><td class=\"sc-eBhrFy kQHQjL\" width=\"50%\">Zuladung</td><td class=\"sc-eBhrFy iKCSrk\">419 kg</td></tr><tr class=\"sc-bcCSHH hJYDw\"><td class=\"sc-eBhrFy kQHQjL\" width=\"50%\">Dachlast</td><td class=\"sc-eBhrFy iKCSrk\">60 kg</td></tr></tbody></table></div></div><div><h3 class=\"_3zBiXS0-XUoow9ihHCZSvf YtkX_a9mrN7Zk0Nj2A3cp _1O1KjEmh68E7ZUI8CcoBTW sc-iqVWFU sc-fMfAsl cTpfPG ftRnUw\" id=\"karosserie-und-fahrwerk\">Karosserie und Fahrwerk</h3><div class=\"sc-kiwPtn kEZMXn sc-cAUCVt fjOLa-d\" data-testid=\"table\"><table class=\"sc-bePbDJ sc-lcdCCa ijVsTE hvmJsE\"><thead class=\"sc-hFLmAl oPpsT\"><tr class=\"sc-bcCSHH hJYDw\"><th class=\"sc-lepLyc eRBYPR\"><p class=\"font-sans font-normal text-black60 text-base leading-5 sc-XxNYO esgOdO\">Kategorie</p></th><th class=\"sc-lepLyc eRBYPR\"><p class=\"font-sans font-normal text-black60 text-base leading-5 sc-XxNYO esgOdO\">Herstellerangabe</p></th></tr></thead><tbody class=\"sc-eDtABA fqhEfw\"><tr class=\"sc-bcCSHH hJYDw\"><td class=\"sc-eBhrFy kQHQjL\" width=\"50%\">Karosserie</td><td class=\"sc-eBhrFy iKCSrk\">Schrägheck</td></tr><tr class=\"sc-bcCSHH hJYDw\"><td class=\"sc-eBhrFy kQHQjL\" width=\"50%\">Türanzahl</td><td class=\"sc-eBhrFy iKCSrk\">5</td></tr><tr class=\"sc-bcCSHH hJYDw\"><td class=\"sc-eBhrFy kQHQjL\" width=\"50%\">Fahrzeugklasse</td><td class=\"sc-eBhrFy iKCSrk\">Kleinstwagen  (z.B. Twingo)</td></tr><tr class=\"sc-bcCSHH hJYDw\"><td class=\"sc-eBhrFy kQHQjL\" width=\"50%\">Sitzanzahl</td><td class=\"sc-eBhrFy iKCSrk\">5</td></tr><tr class=\"sc-bcCSHH hJYDw\"><td class=\"sc-eBhrFy kQHQjL\" width=\"50%\">Federung vorne</td><td class=\"sc-eBhrFy iKCSrk\">Schraube</td></tr><tr class=\"sc-bcCSHH hJYDw\"><td class=\"sc-eBhrFy kQHQjL\" width=\"50%\">Federung hinten</td><td class=\"sc-eBhrFy iKCSrk\">Schraube</td></tr><tr class=\"sc-bcCSHH hJYDw\"><td class=\"sc-eBhrFy kQHQjL\" width=\"50%\">Servolenkung</td><td class=\"sc-eBhrFy iKCSrk\">Serie</td></tr><tr class=\"sc-bcCSHH hJYDw\"><td class=\"sc-eBhrFy kQHQjL\" width=\"50%\">Bremse vorne</td><td class=\"sc-eBhrFy iKCSrk\">Scheibe</td></tr><tr class=\"sc-bcCSHH hJYDw\"><td class=\"sc-eBhrFy kQHQjL\" width=\"50%\">Bremse hinten</td><td class=\"sc-eBhrFy iKCSrk\">Scheibe</td></tr><tr class=\"sc-bcCSHH hJYDw\"><td class=\"sc-eBhrFy kQHQjL\" width=\"50%\">Reifengröße</td><td class=\"sc-eBhrFy iKCSrk\">175/65R14</td></tr><tr class=\"sc-bcCSHH hJYDw\"><td class=\"sc-eBhrFy kQHQjL\" width=\"50%\">Reifendruckkontrolle</td><td class=\"sc-eBhrFy iKCSrk\">Serie</td></tr><tr class=\"sc-bcCSHH hJYDw\"><td class=\"sc-eBhrFy kQHQjL\" width=\"50%\">Reifendruckkontrolle - Bezeichnung</td><td class=\"sc-eBhrFy iKCSrk\">direkte Messung (Sensor)</td></tr></tbody></table></div></div><div><h3 class=\"_3zBiXS0-XUoow9ihHCZSvf YtkX_a9mrN7Zk0Nj2A3cp _1O1KjEmh68E7ZUI8CcoBTW sc-iqVWFU sc-fMfAsl cTpfPG ftRnUw\" id=\"messwerte-hersteller\">Messwerte Hersteller</h3><div class=\"sc-kiwPtn kEZMXn sc-cAUCVt fjOLa-d\" data-testid=\"table\"><table class=\"sc-bePbDJ sc-lcdCCa ijVsTE hvmJsE\"><thead class=\"sc-hFLmAl oPpsT\"><tr class=\"sc-bcCSHH hJYDw\"><th class=\"sc-lepLyc eRBYPR\"><p class=\"font-sans font-normal text-black60 text-base leading-5 sc-XxNYO esgOdO\">Kategorie</p></th><th class=\"sc-lepLyc eRBYPR\"><p class=\"font-sans font-normal text-black60 text-base leading-5 sc-XxNYO esgOdO\">Herstellerangabe</p></th></tr></thead><tbody class=\"sc-eDtABA fqhEfw\"><tr class=\"sc-bcCSHH hJYDw\"><td class=\"sc-eBhrFy kQHQjL\" width=\"50%\">Beschleunigung 0-100km/h</td><td class=\"sc-eBhrFy iKCSrk\">13,8 s</td></tr><tr class=\"sc-bcCSHH hJYDw\"><td class=\"sc-eBhrFy kQHQjL\" width=\"50%\">Höchstgeschwindigkeit</td><td class=\"sc-eBhrFy iKCSrk\">166 km/h</td></tr><tr class=\"sc-bcCSHH hJYDw\"><td class=\"sc-eBhrFy kQHQjL\" width=\"50%\">Fahrgeräusch</td><td class=\"sc-eBhrFy iKCSrk\">72 dB</td></tr><tr class=\"sc-bcCSHH hJYDw\"><td class=\"sc-eBhrFy kQHQjL\" width=\"50%\">Verbrauch Innerorts (NEFZ) </td><td class=\"sc-eBhrFy iKCSrk\">7,3 l/100 km</td></tr><tr class=\"sc-bcCSHH hJYDw\"><td class=\"sc-eBhrFy kQHQjL\" width=\"50%\">Verbrauch Außerorts (NEFZ) </td><td class=\"sc-eBhrFy iKCSrk\">5,5 l/100 km</td></tr><tr class=\"sc-bcCSHH hJYDw\"><td class=\"sc-eBhrFy kQHQjL\" width=\"50%\">Verbrauch Gesamt (NEFZ)</td><td class=\"sc-eBhrFy iKCSrk\">6,2 l/100 km</td></tr><tr class=\"sc-bcCSHH hJYDw\"><td class=\"sc-eBhrFy kQHQjL\" width=\"50%\">CO2-Wert (NEFZ)</td><td class=\"sc-eBhrFy iKCSrk\">141 g/km</td></tr><tr class=\"sc-bcCSHH hJYDw\"><td class=\"sc-eBhrFy kQHQjL\" width=\"50%\">CO2-Wert kombiniert (WLTP)</td><td class=\"sc-eBhrFy iKCSrk\">159 g/km</td></tr><tr class=\"sc-bcCSHH hJYDw\"><td class=\"sc-eBhrFy kQHQjL\" width=\"50%\">Tankgröße</td><td class=\"sc-eBhrFy iKCSrk\">40,0 l</td></tr></tbody></table></div></div><div><h3 class=\"_3zBiXS0-XUoow9ihHCZSvf YtkX_a9mrN7Zk0Nj2A3cp _1O1KjEmh68E7ZUI8CcoBTW sc-iqVWFU sc-fMfAsl cTpfPG ftRnUw\" id=\"sicherheitsausstattung\">Sicherheitsausstattung</h3><div class=\"sc-kiwPtn kEZMXn sc-cAUCVt fjOLa-d\" data-testid=\"table\"><table class=\"sc-bePbDJ sc-lcdCCa ijVsTE hvmJsE\"><thead class=\"sc-hFLmAl oPpsT\"><tr class=\"sc-bcCSHH hJYDw\"><th class=\"sc-lepLyc eRBYPR\"><p class=\"font-sans font-normal text-black60 text-base leading-5 sc-XxNYO esgOdO\">Kategorie</p></th><th class=\"sc-lepLyc eRBYPR\"><p class=\"font-sans font-normal text-black60 text-base leading-5 sc-XxNYO esgOdO\">Herstellerangabe</p></th></tr></thead><tbody class=\"sc-eDtABA fqhEfw\"><tr class=\"sc-bcCSHH hJYDw\"><td class=\"sc-eBhrFy kQHQjL\" width=\"50%\">Airbag Fahrer</td><td class=\"sc-eBhrFy iKCSrk\">Serie</td></tr><tr class=\"sc-bcCSHH hJYDw\"><td class=\"sc-eBhrFy kQHQjL\" width=\"50%\">Airbag Beifahrer</td><td class=\"sc-eBhrFy iKCSrk\">Serie</td></tr><tr class=\"sc-bcCSHH hJYDw\"><td class=\"sc-eBhrFy kQHQjL\" width=\"50%\">Seitenairbag vorne</td><td class=\"sc-eBhrFy iKCSrk\">Serie</td></tr><tr class=\"sc-bcCSHH hJYDw\"><td class=\"sc-eBhrFy kQHQjL\" width=\"50%\">Kopfairbag vorne</td><td class=\"sc-eBhrFy iKCSrk\">Serie</td></tr><tr class=\"sc-bcCSHH hJYDw\"><td class=\"sc-eBhrFy kQHQjL\" width=\"50%\">Kopfairbag vorne - Bezeichnung</td><td class=\"sc-eBhrFy iKCSrk\">Windowbag</td></tr><tr class=\"sc-bcCSHH hJYDw\"><td class=\"sc-eBhrFy kQHQjL\" width=\"50%\">Kopfairbag hinten</td><td class=\"sc-eBhrFy iKCSrk\">Serie</td></tr><tr class=\"sc-bcCSHH hJYDw\"><td class=\"sc-eBhrFy kQHQjL\" width=\"50%\">Kopfairbag hinten - Bezeichnung</td><td class=\"sc-eBhrFy iKCSrk\">Windowbag</td></tr><tr class=\"sc-bcCSHH hJYDw\"><td class=\"sc-eBhrFy kQHQjL\" width=\"50%\">Airbag Deaktivierung</td><td class=\"sc-eBhrFy iKCSrk\">Serie</td></tr><tr class=\"sc-bcCSHH hJYDw\"><td class=\"sc-eBhrFy kQHQjL\" width=\"50%\">Airbag Deaktivierung - Bezeichnung</td><td class=\"sc-eBhrFy iKCSrk\">Schlüsselschalter</td></tr><tr class=\"sc-bcCSHH hJYDw\"><td class=\"sc-eBhrFy kQHQjL\" width=\"50%\">3-Punkt-Gurt hinten Mitte</td><td class=\"sc-eBhrFy iKCSrk\">Serie</td></tr><tr class=\"sc-bcCSHH hJYDw\"><td class=\"sc-eBhrFy kQHQjL\" width=\"50%\">3-Punkt-Gurt hinten Mitte - Bezeichnung</td><td class=\"sc-eBhrFy iKCSrk\">3-Punkt Gurt</td></tr><tr class=\"sc-bcCSHH hJYDw\"><td class=\"sc-eBhrFy kQHQjL\" width=\"50%\">Kopfstützen hinten</td><td class=\"sc-eBhrFy iKCSrk\">Serie</td></tr><tr class=\"sc-bcCSHH hJYDw\"><td class=\"sc-eBhrFy kQHQjL\" width=\"50%\">Kopfstützen hinten Mitte</td><td class=\"sc-eBhrFy iKCSrk\">Serie</td></tr><tr class=\"sc-bcCSHH hJYDw\"><td class=\"sc-eBhrFy kQHQjL\" width=\"50%\">Isofix</td><td class=\"sc-eBhrFy iKCSrk\">Serie</td></tr><tr class=\"sc-bcCSHH hJYDw\"><td class=\"sc-eBhrFy kQHQjL\" width=\"50%\">Isofix - Bezeichnung</td><td class=\"sc-eBhrFy iKCSrk\">Nur hinten mit Top-Tether</td></tr><tr class=\"sc-bcCSHH hJYDw\"><td class=\"sc-eBhrFy kQHQjL\" width=\"50%\">ABS</td><td class=\"sc-eBhrFy iKCSrk\">Serie</td></tr><tr class=\"sc-bcCSHH hJYDw\"><td class=\"sc-eBhrFy kQHQjL\" width=\"50%\">Bremsassistent</td><td class=\"sc-eBhrFy iKCSrk\">Serie</td></tr><tr class=\"sc-bcCSHH hJYDw\"><td class=\"sc-eBhrFy kQHQjL\" width=\"50%\">Bremsassistent - Bezeichnung</td><td class=\"sc-eBhrFy iKCSrk\">Bremsassistent</td></tr><tr class=\"sc-bcCSHH hJYDw\"><td class=\"sc-eBhrFy kQHQjL\" width=\"50%\">Kollisionswarnung</td><td class=\"sc-eBhrFy iKCSrk\">Paket</td></tr><tr class=\"sc-bcCSHH hJYDw\"><td class=\"sc-eBhrFy kQHQjL\" width=\"50%\">Antriebsschlupfregelung</td><td class=\"sc-eBhrFy iKCSrk\">Serie</td></tr><tr class=\"sc-bcCSHH hJYDw\"><td class=\"sc-eBhrFy kQHQjL\" width=\"50%\">Antriebsschlupfregelung - Bezeichnung</td><td class=\"sc-eBhrFy iKCSrk\">Traction Control</td></tr><tr class=\"sc-bcCSHH hJYDw\"><td class=\"sc-eBhrFy kQHQjL\" width=\"50%\">Fahrdynamikregelung</td><td class=\"sc-eBhrFy iKCSrk\">Serie</td></tr><tr class=\"sc-bcCSHH hJYDw\"><td class=\"sc-eBhrFy kQHQjL\" width=\"50%\">Fahrdynamikregelung - Bezeichnung</td><td class=\"sc-eBhrFy iKCSrk\">Elektronische Stabilitätskontrolle</td></tr><tr class=\"sc-bcCSHH hJYDw\"><td class=\"sc-eBhrFy kQHQjL\" width=\"50%\">Nebelscheinwerfer</td><td class=\"sc-eBhrFy iKCSrk\">Serie</td></tr><tr class=\"sc-bcCSHH hJYDw\"><td class=\"sc-eBhrFy kQHQjL\" width=\"50%\">Speed-Limiter</td><td class=\"sc-eBhrFy iKCSrk\">Serie</td></tr></tbody></table></div></div><div><h3 class=\"_3zBiXS0-XUoow9ihHCZSvf YtkX_a9mrN7Zk0Nj2A3cp _1O1KjEmh68E7ZUI8CcoBTW sc-iqVWFU sc-fMfAsl cTpfPG ftRnUw\" id=\"herstellergarantien\">Herstellergarantien</h3><div class=\"sc-kiwPtn kEZMXn sc-cAUCVt fjOLa-d\" data-testid=\"table\"><table class=\"sc-bePbDJ sc-lcdCCa ijVsTE hvmJsE\"><thead class=\"sc-hFLmAl oPpsT\"><tr class=\"sc-bcCSHH hJYDw\"><th class=\"sc-lepLyc eRBYPR\"><p class=\"font-sans font-normal text-black60 text-base leading-5 sc-XxNYO esgOdO\">Kategorie</p></th><th class=\"sc-lepLyc eRBYPR\"><p class=\"font-sans font-normal text-black60 text-base leading-5 sc-XxNYO esgOdO\">Herstellerangabe</p></th></tr></thead><tbody class=\"sc-eDtABA fqhEfw\"><tr class=\"sc-bcCSHH hJYDw\"><td class=\"sc-eBhrFy kQHQjL\" width=\"50%\">Garantie (Fahrzeug)</td><td class=\"sc-eBhrFy iKCSrk\">5 Jahre</td></tr><tr class=\"sc-bcCSHH hJYDw\"><td class=\"sc-eBhrFy kQHQjL\" width=\"50%\">Lackgarantie</td><td class=\"sc-eBhrFy iKCSrk\">5 Jahre</td></tr><tr class=\"sc-bcCSHH hJYDw\"><td class=\"sc-eBhrFy kQHQjL\" width=\"50%\">Durchrostung</td><td class=\"sc-eBhrFy iKCSrk\">12 Jahre</td></tr><tr class=\"sc-bcCSHH hJYDw\"><td class=\"sc-eBhrFy kQHQjL\" width=\"50%\">Zusätzliche Garantien</td><td class=\"sc-eBhrFy iKCSrk\">Mobilitätsgarantie: 5 Jahre europaweit; ab 01/16: Lebenslang bis 200.000 km bei Einhaltung aller Inspektionen;</td></tr></tbody></table></div></div><div><h3 class=\"_3zBiXS0-XUoow9ihHCZSvf YtkX_a9mrN7Zk0Nj2A3cp _1O1KjEmh68E7ZUI8CcoBTW sc-iqVWFU sc-fMfAsl cTpfPG ftRnUw\" id=\"preise-und-ausstattung\">Preise und Ausstattung</h3><div class=\"sc-kiwPtn kEZMXn sc-cAUCVt fjOLa-d\" data-testid=\"table\"><table class=\"sc-bePbDJ sc-lcdCCa ijVsTE hvmJsE\"><thead class=\"sc-hFLmAl oPpsT\"><tr class=\"sc-bcCSHH hJYDw\"><th class=\"sc-lepLyc eRBYPR\"><p class=\"font-sans font-normal text-black60 text-base leading-5 sc-XxNYO esgOdO\">Kategorie</p></th><th class=\"sc-lepLyc eRBYPR\"><p class=\"font-sans font-normal text-black60 text-base leading-5 sc-XxNYO esgOdO\">Herstellerangabe</p></th></tr></thead><tbody class=\"sc-eDtABA fqhEfw\"><tr class=\"sc-bcCSHH hJYDw\"><td class=\"sc-eBhrFy kQHQjL\" width=\"50%\">Grundpreis</td><td class=\"sc-eBhrFy iKCSrk\">14850 Euro</td></tr><tr class=\"sc-bcCSHH hJYDw\"><td class=\"sc-eBhrFy kQHQjL\" width=\"50%\">Klassenübliche Ausstattung nach ADAC-Vorgabe</td><td class=\"sc-eBhrFy iKCSrk\">k.A.</td></tr><tr class=\"sc-bcCSHH hJYDw\"><td class=\"sc-eBhrFy kQHQjL\" width=\"50%\">Klimaanlage</td><td class=\"sc-eBhrFy iKCSrk\">Serie</td></tr><tr class=\"sc-bcCSHH hJYDw\"><td class=\"sc-eBhrFy kQHQjL\" width=\"50%\">Zentralverriegelung</td><td class=\"sc-eBhrFy iKCSrk\">Serie</td></tr><tr class=\"sc-bcCSHH hJYDw\"><td class=\"sc-eBhrFy kQHQjL\" width=\"50%\">Fensterheber elektr. vorne</td><td class=\"sc-eBhrFy iKCSrk\">Serie</td></tr><tr class=\"sc-bcCSHH hJYDw\"><td class=\"sc-eBhrFy kQHQjL\" width=\"50%\">Fensterheber elektr. hinten</td><td class=\"sc-eBhrFy iKCSrk\">Serie</td></tr><tr class=\"sc-bcCSHH hJYDw\"><td class=\"sc-eBhrFy kQHQjL\" width=\"50%\">Radio</td><td class=\"sc-eBhrFy iKCSrk\">Serie</td></tr><tr class=\"sc-bcCSHH hJYDw\"><td class=\"sc-eBhrFy kQHQjL\" width=\"50%\">Radio - Bezeichnung</td><td class=\"sc-eBhrFy iKCSrk\">DAB-Radio mit MP3</td></tr><tr class=\"sc-bcCSHH hJYDw\"><td class=\"sc-eBhrFy kQHQjL\" width=\"50%\">Alufelgen</td><td class=\"sc-eBhrFy iKCSrk\">Serie</td></tr><tr class=\"sc-bcCSHH hJYDw\"><td class=\"sc-eBhrFy kQHQjL\" width=\"50%\">Metallic-Lackierung</td><td class=\"sc-eBhrFy iKCSrk\">490 Euro</td></tr></tbody></table></div></div></div></main></div>]"
      ]
     },
     "execution_count": 123,
     "metadata": {},
     "output_type": "execute_result"
    }
   ],
   "source": [
    "technische_daten"
   ]
  },
  {
   "cell_type": "code",
   "execution_count": 101,
   "id": "30a930f0-eecd-4438-a687-d196e9997ebe",
   "metadata": {},
   "outputs": [
    {
     "ename": "IndexError",
     "evalue": "list index out of range",
     "output_type": "error",
     "traceback": [
      "\u001b[0;31m---------------------------------------------------------------------------\u001b[0m",
      "\u001b[0;31mIndexError\u001b[0m                                Traceback (most recent call last)",
      "Input \u001b[0;32mIn [101]\u001b[0m, in \u001b[0;36m<cell line: 9>\u001b[0;34m()\u001b[0m\n\u001b[1;32m      5\u001b[0m modell_soup \u001b[38;5;241m=\u001b[39m BeautifulSoup(r_modell\u001b[38;5;241m.\u001b[39mtext, \u001b[38;5;124m'\u001b[39m\u001b[38;5;124mhtml.parser\u001b[39m\u001b[38;5;124m'\u001b[39m)\n\u001b[1;32m      7\u001b[0m technische_daten \u001b[38;5;241m=\u001b[39m modell_soup\u001b[38;5;241m.\u001b[39mfind_all(\u001b[38;5;124m'\u001b[39m\u001b[38;5;124mdiv\u001b[39m\u001b[38;5;124m'\u001b[39m, \n\u001b[1;32m      8\u001b[0m                                         class_ \u001b[38;5;241m=\u001b[39m \u001b[38;5;124m'\u001b[39m\u001b[38;5;124msc-cxVPaa gxVuRJ sc-bnOPBZ jbcYSh sc-iKMXQg iMhTHO\u001b[39m\u001b[38;5;124m'\u001b[39m)\n\u001b[0;32m----> 9\u001b[0m tabellen \u001b[38;5;241m=\u001b[39m \u001b[43mtechnische_daten\u001b[49m\u001b[43m[\u001b[49m\u001b[38;5;241;43m0\u001b[39;49m\u001b[43m]\u001b[49m\u001b[38;5;241m.\u001b[39mfind_all(\u001b[38;5;124m'\u001b[39m\u001b[38;5;124mtable\u001b[39m\u001b[38;5;124m'\u001b[39m)\n\u001b[1;32m     11\u001b[0m \u001b[38;5;66;03m## Daten zusammensetzen\u001b[39;00m\n\u001b[1;32m     12\u001b[0m model_id \u001b[38;5;241m=\u001b[39m re\u001b[38;5;241m.\u001b[39mfindall(\u001b[38;5;124m'\u001b[39m\u001b[38;5;124m/(\u001b[39m\u001b[38;5;124m\\\u001b[39m\u001b[38;5;124md+)/$\u001b[39m\u001b[38;5;124m'\u001b[39m,modell_url)[\u001b[38;5;241m0\u001b[39m]\n",
      "\u001b[0;31mIndexError\u001b[0m: list index out of range"
     ]
    }
   ],
   "source": [
    "modell = alle_modelle[break_index-10]\n",
    "## Modell\n",
    "r_modell = requests.get(modell_url + '#technische-daten')\n",
    "\n",
    "modell_soup = BeautifulSoup(r_modell.text, 'html.parser')\n",
    "\n",
    "technische_daten = modell_soup.find_all('div', \n",
    "                                        class_ = 'sc-cxVPaa gxVuRJ sc-bnOPBZ jbcYSh sc-iKMXQg iMhTHO')\n",
    "tabellen = technische_daten[0].find_all('table')\n",
    "\n",
    "## Daten zusammensetzen\n",
    "model_id = re.findall('/(\\d+)/$',modell_url)[0]\n",
    "\n",
    "# Tabellen parsen\n",
    "df = pd.DataFrame()\n",
    "for t in tabellen:\n",
    "    kategorien = [kategorie.text for kategorie in t.find_all('td', class_='sc-hDzdEj kyOEig')]\n",
    "    werte = [wert.text for wert in t.find_all('td', class_='sc-hDzdEj cGvlQj')]\n",
    "    df = pd.concat([df, pd.DataFrame({'Kategorie': kategorien, 'Wert':werte})])\n",
    "df['ADAC_id'] = model_id"
   ]
  },
  {
   "cell_type": "code",
   "execution_count": 103,
   "id": "cd7c0017-edad-4fce-8892-3b7d17b2fe80",
   "metadata": {},
   "outputs": [],
   "source": [
    "divs = modell_soup.find_all('div')"
   ]
  },
  {
   "cell_type": "code",
   "execution_count": 104,
   "id": "cc64ed65-c634-4e39-8658-97fc1f9a42a9",
   "metadata": {},
   "outputs": [
    {
     "data": {
      "text/plain": [
       "405"
      ]
     },
     "execution_count": 104,
     "metadata": {},
     "output_type": "execute_result"
    }
   ],
   "source": [
    "len(divs)"
   ]
  },
  {
   "cell_type": "code",
   "execution_count": 107,
   "id": "df0cbb23-6074-4c4f-a7cd-f5fd3301b374",
   "metadata": {},
   "outputs": [
    {
     "ename": "TypeError",
     "evalue": "'NoneType' object is not callable",
     "output_type": "error",
     "traceback": [
      "\u001b[0;31m---------------------------------------------------------------------------\u001b[0m",
      "\u001b[0;31mTypeError\u001b[0m                                 Traceback (most recent call last)",
      "Input \u001b[0;32mIn [107]\u001b[0m, in \u001b[0;36m<cell line: 1>\u001b[0;34m()\u001b[0m\n\u001b[0;32m----> 1\u001b[0m [d\u001b[38;5;241m.\u001b[39mget_title() \u001b[38;5;28;01mfor\u001b[39;00m d \u001b[38;5;129;01min\u001b[39;00m divs]\n",
      "Input \u001b[0;32mIn [107]\u001b[0m, in \u001b[0;36m<listcomp>\u001b[0;34m(.0)\u001b[0m\n\u001b[0;32m----> 1\u001b[0m [\u001b[43md\u001b[49m\u001b[38;5;241;43m.\u001b[39;49m\u001b[43mget_title\u001b[49m\u001b[43m(\u001b[49m\u001b[43m)\u001b[49m \u001b[38;5;28;01mfor\u001b[39;00m d \u001b[38;5;129;01min\u001b[39;00m divs]\n",
      "\u001b[0;31mTypeError\u001b[0m: 'NoneType' object is not callable"
     ]
    }
   ],
   "source": [
    "[d.get_title() for d in divs]"
   ]
  },
  {
   "cell_type": "code",
   "execution_count": null,
   "id": "4d9911b2-35dd-4b82-9ab4-80f844180993",
   "metadata": {},
   "outputs": [],
   "source": []
  }
 ],
 "metadata": {
  "kernelspec": {
   "display_name": "adac-scrape",
   "language": "python",
   "name": "adac-scrape"
  },
  "language_info": {
   "codemirror_mode": {
    "name": "ipython",
    "version": 3
   },
   "file_extension": ".py",
   "mimetype": "text/x-python",
   "name": "python",
   "nbconvert_exporter": "python",
   "pygments_lexer": "ipython3",
   "version": "3.10.4"
  }
 },
 "nbformat": 4,
 "nbformat_minor": 5
}
